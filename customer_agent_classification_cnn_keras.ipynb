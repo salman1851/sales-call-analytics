{
  "cells": [
    {
      "cell_type": "code",
      "execution_count": null,
      "metadata": {
        "id": "p6J1L0se4Aba"
      },
      "outputs": [],
      "source": [
        "import json\n",
        "import os\n",
        "import math\n",
        "import librosa\n",
        "import numpy as np"
      ]
    },
    {
      "cell_type": "code",
      "execution_count": null,
      "metadata": {
        "colab": {
          "base_uri": "https://localhost:8080/"
        },
        "id": "Ne9MNjApJRzh",
        "outputId": "2ba5bf84-6d41-4a8a-ffca-d7f287ccde45"
      },
      "outputs": [
        {
          "output_type": "stream",
          "name": "stdout",
          "text": [
            "Mounted at /content/drive\n"
          ]
        }
      ],
      "source": [
        "from google.colab import drive\n",
        "drive.mount('/content/drive')"
      ]
    },
    {
      "cell_type": "code",
      "execution_count": null,
      "metadata": {
        "id": "4TVWPimjcuFq"
      },
      "outputs": [],
      "source": [
        "def load_data(data_path):\n",
        "    \"\"\"Loads training dataset from json file.\n",
        "\n",
        "        :param data_path (str): Path to json file containing data\n",
        "        :return X (ndarray): Inputs\n",
        "        :return y (ndarray): Targets\n",
        "    \"\"\"\n",
        "\n",
        "    with open(data_path, \"r\") as fp:\n",
        "        data = json.load(fp)\n",
        "\n",
        "    # convert lists to numpy arrays\n",
        "    X = np.array(data[\"mfcc\"])\n",
        "    y = np.array(data[\"labels\"])\n",
        "\n",
        "    print(\"Data succesfully loaded!\")\n",
        "\n",
        "    return  X, y"
      ]
    },
    {
      "cell_type": "code",
      "source": [
        "dataset_path = '/content/drive/MyDrive/lasting_sales_dataset/cus_age_dataset_5sec.json'"
      ],
      "metadata": {
        "id": "CHZLY5UlyoOQ"
      },
      "execution_count": null,
      "outputs": []
    },
    {
      "cell_type": "code",
      "execution_count": null,
      "metadata": {
        "id": "-f8t97-PdCna",
        "colab": {
          "base_uri": "https://localhost:8080/"
        },
        "outputId": "1c8dc578-fc95-42cc-a3ca-a3b9e076ec8b"
      },
      "outputs": [
        {
          "output_type": "stream",
          "name": "stdout",
          "text": [
            "Data succesfully loaded!\n"
          ]
        }
      ],
      "source": [
        "X, y = load_data(dataset_path)"
      ]
    },
    {
      "cell_type": "code",
      "execution_count": null,
      "metadata": {
        "id": "9uzqQTWcknRD",
        "colab": {
          "base_uri": "https://localhost:8080/"
        },
        "outputId": "e2958edd-40e8-413f-d24b-215c21c01f6d"
      },
      "outputs": [
        {
          "output_type": "execute_result",
          "data": {
            "text/plain": [
              "(321, 1000, 96)"
            ]
          },
          "metadata": {},
          "execution_count": 6
        }
      ],
      "source": [
        "X.shape"
      ]
    },
    {
      "cell_type": "code",
      "execution_count": null,
      "metadata": {
        "id": "pRWUrWi525LF"
      },
      "outputs": [],
      "source": [
        "# X = X.reshape(X.shape[0],X.shape[1],X.shape[2],1)"
      ]
    },
    {
      "cell_type": "code",
      "source": [
        "# X.shape"
      ],
      "metadata": {
        "id": "luPEW-o0N1du"
      },
      "execution_count": null,
      "outputs": []
    },
    {
      "cell_type": "code",
      "execution_count": null,
      "metadata": {
        "id": "cgzP8gyddQCO"
      },
      "outputs": [],
      "source": [
        "from sklearn.model_selection import train_test_split\n",
        "X_train, X_test, y_train, y_test = train_test_split(X, y, test_size=0.3)"
      ]
    },
    {
      "cell_type": "code",
      "execution_count": null,
      "metadata": {
        "id": "fnzZ5NJEeG22"
      },
      "outputs": [],
      "source": [
        "import tensorflow.keras as keras\n",
        "from keras.models import Sequential\n",
        "from keras.layers import Dense, Activation, Conv2D, MaxPooling2D, Dropout, LSTM, Flatten, Reshape"
      ]
    },
    {
      "cell_type": "code",
      "execution_count": null,
      "metadata": {
        "id": "FXkzMRu0_NlG"
      },
      "outputs": [],
      "source": [
        "model = Sequential()\n",
        "model.add(Conv2D(60, (3, 3), padding=\"same\", activation=\"relu\", input_shape=(X.shape[1], X.shape[2], 1)))\n",
        "# model.add(Conv2D(60, (3, 3), padding=\"same\", activation=\"relu\", input_shape=(1000, 96, 1)))\n",
        "model.add(MaxPooling2D(pool_size=(2, 2)))\n",
        "model.add(Dropout(0.1))\n",
        "model.add(Conv2D(50, (3, 3), padding=\"same\", activation=\"relu\"))\n",
        "model.add(MaxPooling2D(pool_size=(3, 3)))\n",
        "model.add(Dropout(0.1))\n",
        "model.add(Conv2D(40, (3, 3), padding=\"same\", activation=\"relu\"))\n",
        "model.add(MaxPooling2D(pool_size=(4, 2)))\n",
        "model.add(Dropout(0.1))\n",
        "model.add(Conv2D(30, (3, 3), padding=\"same\", activation=\"relu\"))\n",
        "model.add(MaxPooling2D(pool_size=(4, 2)))\n",
        "model.add(Dropout(0.1))\n",
        "\n",
        "# Calculate the number of timesteps dynamically based on the output shape of Conv2D layers\n",
        "conv_output_shape = model.layers[-1].output_shape\n",
        "num_timesteps = conv_output_shape[1] * conv_output_shape[2]\n",
        "\n",
        "# Reshape the output from convolutional layers for LSTM input\n",
        "model.add(Reshape((num_timesteps, 30)))  # Assuming 30 is the number of features\n",
        "\n",
        "# Add LSTM layers\n",
        "model.add(LSTM(30, return_sequences=True))  # First LSTM layer with 30 units, return sequences\n",
        "model.add(LSTM(30, return_sequences=True))  # Second LSTM layer with 30 units, return sequences\n",
        "\n",
        "# Flatten the output from convolutional layers\n",
        "model.add(Flatten())\n",
        "\n",
        "model.add(Dense(84, activation='relu'))\n",
        "model.add(Dense(2, activation='softmax'))"
      ]
    },
    {
      "cell_type": "code",
      "execution_count": null,
      "metadata": {
        "colab": {
          "base_uri": "https://localhost:8080/"
        },
        "id": "M8_jT3kUf9Ih",
        "outputId": "0237457d-24dc-46d8-f841-ab6938b9e91c"
      },
      "outputs": [
        {
          "output_type": "stream",
          "name": "stdout",
          "text": [
            "Model: \"sequential\"\n",
            "_________________________________________________________________\n",
            " Layer (type)                Output Shape              Param #   \n",
            "=================================================================\n",
            " conv2d (Conv2D)             (None, 1000, 96, 60)      600       \n",
            "                                                                 \n",
            " max_pooling2d (MaxPooling2  (None, 500, 48, 60)       0         \n",
            " D)                                                              \n",
            "                                                                 \n",
            " dropout (Dropout)           (None, 500, 48, 60)       0         \n",
            "                                                                 \n",
            " conv2d_1 (Conv2D)           (None, 500, 48, 50)       27050     \n",
            "                                                                 \n",
            " max_pooling2d_1 (MaxPoolin  (None, 166, 16, 50)       0         \n",
            " g2D)                                                            \n",
            "                                                                 \n",
            " dropout_1 (Dropout)         (None, 166, 16, 50)       0         \n",
            "                                                                 \n",
            " conv2d_2 (Conv2D)           (None, 166, 16, 40)       18040     \n",
            "                                                                 \n",
            " max_pooling2d_2 (MaxPoolin  (None, 41, 8, 40)         0         \n",
            " g2D)                                                            \n",
            "                                                                 \n",
            " dropout_2 (Dropout)         (None, 41, 8, 40)         0         \n",
            "                                                                 \n",
            " conv2d_3 (Conv2D)           (None, 41, 8, 30)         10830     \n",
            "                                                                 \n",
            " max_pooling2d_3 (MaxPoolin  (None, 10, 4, 30)         0         \n",
            " g2D)                                                            \n",
            "                                                                 \n",
            " dropout_3 (Dropout)         (None, 10, 4, 30)         0         \n",
            "                                                                 \n",
            " reshape (Reshape)           (None, 40, 30)            0         \n",
            "                                                                 \n",
            " lstm (LSTM)                 (None, 40, 30)            7320      \n",
            "                                                                 \n",
            " lstm_1 (LSTM)               (None, 40, 30)            7320      \n",
            "                                                                 \n",
            " flatten (Flatten)           (None, 1200)              0         \n",
            "                                                                 \n",
            " dense (Dense)               (None, 84)                100884    \n",
            "                                                                 \n",
            " dense_1 (Dense)             (None, 2)                 170       \n",
            "                                                                 \n",
            "=================================================================\n",
            "Total params: 172214 (672.71 KB)\n",
            "Trainable params: 172214 (672.71 KB)\n",
            "Non-trainable params: 0 (0.00 Byte)\n",
            "_________________________________________________________________\n"
          ]
        }
      ],
      "source": [
        "# compile model\n",
        "optimiser = keras.optimizers.Adam(learning_rate=0.0001)\n",
        "model.compile(optimizer=optimiser,\n",
        "              loss='sparse_categorical_crossentropy',\n",
        "              metrics=['accuracy'])\n",
        "\n",
        "model.summary()"
      ]
    },
    {
      "cell_type": "code",
      "source": [
        "model = keras.models.load_model(\"model_5sec_v2.keras\") # load previously saved model"
      ],
      "metadata": {
        "id": "q-MkgVre0QcR"
      },
      "execution_count": null,
      "outputs": []
    },
    {
      "cell_type": "code",
      "execution_count": null,
      "metadata": {
        "colab": {
          "base_uri": "https://localhost:8080/"
        },
        "id": "6IA2AoihCa7u",
        "outputId": "14582a5c-b0bd-4aff-ce6a-5cf85fe5b43e"
      },
      "outputs": [
        {
          "output_type": "stream",
          "name": "stdout",
          "text": [
            "Epoch 1/50\n",
            "14/14 [==============================] - 19s 259ms/step - loss: 0.2360 - accuracy: 0.9062 - val_loss: 0.1017 - val_accuracy: 0.9691\n",
            "Epoch 2/50\n",
            "14/14 [==============================] - 2s 125ms/step - loss: 0.1698 - accuracy: 0.9375 - val_loss: 0.0881 - val_accuracy: 0.9794\n",
            "Epoch 3/50\n",
            "14/14 [==============================] - 2s 122ms/step - loss: 0.1755 - accuracy: 0.9286 - val_loss: 0.1046 - val_accuracy: 0.9588\n",
            "Epoch 4/50\n",
            "14/14 [==============================] - 2s 130ms/step - loss: 0.2216 - accuracy: 0.9018 - val_loss: 0.0922 - val_accuracy: 0.9794\n",
            "Epoch 5/50\n",
            "14/14 [==============================] - 2s 127ms/step - loss: 0.2000 - accuracy: 0.9152 - val_loss: 0.0964 - val_accuracy: 0.9794\n",
            "Epoch 6/50\n",
            "14/14 [==============================] - 2s 123ms/step - loss: 0.1712 - accuracy: 0.9464 - val_loss: 0.0913 - val_accuracy: 0.9897\n",
            "Epoch 7/50\n",
            "14/14 [==============================] - 2s 123ms/step - loss: 0.1563 - accuracy: 0.9420 - val_loss: 0.0845 - val_accuracy: 0.9794\n",
            "Epoch 8/50\n",
            "14/14 [==============================] - 2s 129ms/step - loss: 0.1702 - accuracy: 0.9420 - val_loss: 0.1182 - val_accuracy: 0.9588\n",
            "Epoch 9/50\n",
            "14/14 [==============================] - 2s 131ms/step - loss: 0.1686 - accuracy: 0.9554 - val_loss: 0.0988 - val_accuracy: 0.9794\n",
            "Epoch 10/50\n",
            "14/14 [==============================] - 2s 129ms/step - loss: 0.1832 - accuracy: 0.9375 - val_loss: 0.0938 - val_accuracy: 0.9794\n",
            "Epoch 11/50\n",
            "14/14 [==============================] - 2s 127ms/step - loss: 0.2255 - accuracy: 0.9196 - val_loss: 0.1032 - val_accuracy: 0.9794\n",
            "Epoch 12/50\n",
            "14/14 [==============================] - 2s 122ms/step - loss: 0.2607 - accuracy: 0.8973 - val_loss: 0.0987 - val_accuracy: 0.9794\n",
            "Epoch 13/50\n",
            "14/14 [==============================] - 2s 122ms/step - loss: 0.1420 - accuracy: 0.9420 - val_loss: 0.1512 - val_accuracy: 0.9485\n",
            "Epoch 14/50\n",
            "14/14 [==============================] - 2s 127ms/step - loss: 0.1521 - accuracy: 0.9286 - val_loss: 0.1516 - val_accuracy: 0.9485\n",
            "Epoch 15/50\n",
            "14/14 [==============================] - 2s 127ms/step - loss: 0.1713 - accuracy: 0.9375 - val_loss: 0.0987 - val_accuracy: 0.9794\n",
            "Epoch 16/50\n",
            "14/14 [==============================] - 2s 126ms/step - loss: 0.1573 - accuracy: 0.9420 - val_loss: 0.1035 - val_accuracy: 0.9794\n",
            "Epoch 17/50\n",
            "14/14 [==============================] - 2s 130ms/step - loss: 0.1598 - accuracy: 0.9420 - val_loss: 0.0944 - val_accuracy: 0.9897\n",
            "Epoch 18/50\n",
            "14/14 [==============================] - 2s 129ms/step - loss: 0.1179 - accuracy: 0.9509 - val_loss: 0.0937 - val_accuracy: 0.9897\n",
            "Epoch 19/50\n",
            "14/14 [==============================] - 2s 122ms/step - loss: 0.1299 - accuracy: 0.9554 - val_loss: 0.0891 - val_accuracy: 0.9897\n",
            "Epoch 20/50\n",
            "14/14 [==============================] - 2s 122ms/step - loss: 0.1408 - accuracy: 0.9509 - val_loss: 0.1077 - val_accuracy: 0.9588\n",
            "Epoch 21/50\n",
            "14/14 [==============================] - 2s 122ms/step - loss: 0.1473 - accuracy: 0.9598 - val_loss: 0.2163 - val_accuracy: 0.9381\n",
            "Epoch 22/50\n",
            "14/14 [==============================] - 2s 122ms/step - loss: 0.1290 - accuracy: 0.9375 - val_loss: 0.0894 - val_accuracy: 0.9897\n",
            "Epoch 23/50\n",
            "14/14 [==============================] - 2s 123ms/step - loss: 0.1269 - accuracy: 0.9464 - val_loss: 0.0901 - val_accuracy: 0.9897\n",
            "Epoch 24/50\n",
            "14/14 [==============================] - 2s 126ms/step - loss: 0.1012 - accuracy: 0.9598 - val_loss: 0.1084 - val_accuracy: 0.9588\n",
            "Epoch 25/50\n",
            "14/14 [==============================] - 2s 125ms/step - loss: 0.1283 - accuracy: 0.9554 - val_loss: 0.1048 - val_accuracy: 0.9588\n",
            "Epoch 26/50\n",
            "14/14 [==============================] - 2s 128ms/step - loss: 0.0964 - accuracy: 0.9643 - val_loss: 0.1025 - val_accuracy: 0.9794\n",
            "Epoch 27/50\n",
            "14/14 [==============================] - 2s 127ms/step - loss: 0.1405 - accuracy: 0.9420 - val_loss: 0.0943 - val_accuracy: 0.9794\n",
            "Epoch 28/50\n",
            "14/14 [==============================] - 2s 123ms/step - loss: 0.1356 - accuracy: 0.9509 - val_loss: 0.2326 - val_accuracy: 0.9278\n",
            "Epoch 29/50\n",
            "14/14 [==============================] - 2s 127ms/step - loss: 0.1487 - accuracy: 0.9330 - val_loss: 0.1540 - val_accuracy: 0.9588\n",
            "Epoch 30/50\n",
            "14/14 [==============================] - 2s 122ms/step - loss: 0.1340 - accuracy: 0.9509 - val_loss: 0.1424 - val_accuracy: 0.9381\n",
            "Epoch 31/50\n",
            "14/14 [==============================] - 2s 123ms/step - loss: 0.1664 - accuracy: 0.9420 - val_loss: 0.1857 - val_accuracy: 0.9278\n",
            "Epoch 32/50\n",
            "14/14 [==============================] - 2s 130ms/step - loss: 0.1437 - accuracy: 0.9420 - val_loss: 0.0933 - val_accuracy: 0.9691\n",
            "Epoch 33/50\n",
            "14/14 [==============================] - 2s 130ms/step - loss: 0.1065 - accuracy: 0.9643 - val_loss: 0.0917 - val_accuracy: 0.9691\n",
            "Epoch 34/50\n",
            "14/14 [==============================] - 2s 123ms/step - loss: 0.1095 - accuracy: 0.9688 - val_loss: 0.1014 - val_accuracy: 0.9691\n",
            "Epoch 35/50\n",
            "14/14 [==============================] - 2s 122ms/step - loss: 0.1151 - accuracy: 0.9509 - val_loss: 0.1046 - val_accuracy: 0.9691\n",
            "Epoch 36/50\n",
            "14/14 [==============================] - 2s 122ms/step - loss: 0.0767 - accuracy: 0.9732 - val_loss: 0.1329 - val_accuracy: 0.9485\n",
            "Epoch 37/50\n",
            "14/14 [==============================] - 2s 122ms/step - loss: 0.1171 - accuracy: 0.9598 - val_loss: 0.0855 - val_accuracy: 0.9897\n",
            "Epoch 38/50\n",
            "14/14 [==============================] - 2s 127ms/step - loss: 0.1396 - accuracy: 0.9554 - val_loss: 0.0961 - val_accuracy: 0.9794\n",
            "Epoch 39/50\n",
            "14/14 [==============================] - 2s 125ms/step - loss: 0.1312 - accuracy: 0.9420 - val_loss: 0.1052 - val_accuracy: 0.9691\n",
            "Epoch 40/50\n",
            "14/14 [==============================] - 2s 129ms/step - loss: 0.1099 - accuracy: 0.9554 - val_loss: 0.0902 - val_accuracy: 0.9794\n",
            "Epoch 41/50\n",
            "14/14 [==============================] - 2s 126ms/step - loss: 0.1206 - accuracy: 0.9554 - val_loss: 0.0933 - val_accuracy: 0.9691\n",
            "Epoch 42/50\n",
            "14/14 [==============================] - 2s 123ms/step - loss: 0.1047 - accuracy: 0.9554 - val_loss: 0.1055 - val_accuracy: 0.9691\n",
            "Epoch 43/50\n",
            "14/14 [==============================] - 2s 128ms/step - loss: 0.0606 - accuracy: 0.9777 - val_loss: 0.0906 - val_accuracy: 0.9794\n",
            "Epoch 44/50\n",
            "14/14 [==============================] - 2s 124ms/step - loss: 0.1128 - accuracy: 0.9464 - val_loss: 0.1106 - val_accuracy: 0.9691\n",
            "Epoch 45/50\n",
            "14/14 [==============================] - 2s 123ms/step - loss: 0.1116 - accuracy: 0.9509 - val_loss: 0.1027 - val_accuracy: 0.9588\n",
            "Epoch 46/50\n",
            "14/14 [==============================] - 2s 122ms/step - loss: 0.0991 - accuracy: 0.9509 - val_loss: 0.0928 - val_accuracy: 0.9691\n",
            "Epoch 47/50\n",
            "14/14 [==============================] - 2s 128ms/step - loss: 0.1026 - accuracy: 0.9688 - val_loss: 0.1561 - val_accuracy: 0.9278\n",
            "Epoch 48/50\n",
            "14/14 [==============================] - 2s 131ms/step - loss: 0.0970 - accuracy: 0.9509 - val_loss: 0.0982 - val_accuracy: 0.9794\n",
            "Epoch 49/50\n",
            "14/14 [==============================] - 2s 125ms/step - loss: 0.0824 - accuracy: 0.9688 - val_loss: 0.0999 - val_accuracy: 0.9691\n",
            "Epoch 50/50\n",
            "14/14 [==============================] - 2s 123ms/step - loss: 0.0821 - accuracy: 0.9688 - val_loss: 0.1283 - val_accuracy: 0.9691\n"
          ]
        }
      ],
      "source": [
        "# train model\n",
        "history = model.fit(X_train, y_train, validation_data=(X_test, y_test), batch_size=16, epochs=50)"
      ]
    },
    {
      "cell_type": "code",
      "source": [
        "model.save('model.keras')"
      ],
      "metadata": {
        "id": "7AQFRUd40IVv"
      },
      "execution_count": null,
      "outputs": []
    },
    {
      "cell_type": "code",
      "source": [
        "from google.colab import files\n",
        "files.download('model.keras')"
      ],
      "metadata": {
        "colab": {
          "base_uri": "https://localhost:8080/",
          "height": 17
        },
        "id": "hm9u4Row0K24",
        "outputId": "d16fa42c-bdac-42ac-921c-e713334d95b6"
      },
      "execution_count": null,
      "outputs": [
        {
          "output_type": "display_data",
          "data": {
            "text/plain": [
              "<IPython.core.display.Javascript object>"
            ],
            "application/javascript": [
              "\n",
              "    async function download(id, filename, size) {\n",
              "      if (!google.colab.kernel.accessAllowed) {\n",
              "        return;\n",
              "      }\n",
              "      const div = document.createElement('div');\n",
              "      const label = document.createElement('label');\n",
              "      label.textContent = `Downloading \"${filename}\": `;\n",
              "      div.appendChild(label);\n",
              "      const progress = document.createElement('progress');\n",
              "      progress.max = size;\n",
              "      div.appendChild(progress);\n",
              "      document.body.appendChild(div);\n",
              "\n",
              "      const buffers = [];\n",
              "      let downloaded = 0;\n",
              "\n",
              "      const channel = await google.colab.kernel.comms.open(id);\n",
              "      // Send a message to notify the kernel that we're ready.\n",
              "      channel.send({})\n",
              "\n",
              "      for await (const message of channel.messages) {\n",
              "        // Send a message to notify the kernel that we're ready.\n",
              "        channel.send({})\n",
              "        if (message.buffers) {\n",
              "          for (const buffer of message.buffers) {\n",
              "            buffers.push(buffer);\n",
              "            downloaded += buffer.byteLength;\n",
              "            progress.value = downloaded;\n",
              "          }\n",
              "        }\n",
              "      }\n",
              "      const blob = new Blob(buffers, {type: 'application/binary'});\n",
              "      const a = document.createElement('a');\n",
              "      a.href = window.URL.createObjectURL(blob);\n",
              "      a.download = filename;\n",
              "      div.appendChild(a);\n",
              "      a.click();\n",
              "      div.remove();\n",
              "    }\n",
              "  "
            ]
          },
          "metadata": {}
        },
        {
          "output_type": "display_data",
          "data": {
            "text/plain": [
              "<IPython.core.display.Javascript object>"
            ],
            "application/javascript": [
              "download(\"download_777a856f-1d4d-4538-bd52-773ec052f541\", \"model.keras\", 2144786)"
            ]
          },
          "metadata": {}
        }
      ]
    },
    {
      "cell_type": "code",
      "source": [
        "# Confusion matrix\n",
        "import matplotlib.pyplot as plt\n",
        "from sklearn.metrics import confusion_matrix, ConfusionMatrixDisplay\n",
        "y_prediction = model.predict(X_test)\n",
        "y_prediction = np.argmax(y_prediction, axis = 1)\n",
        "result = confusion_matrix(y_test, y_prediction , normalize='pred')\n",
        "disp = ConfusionMatrixDisplay(confusion_matrix=result,display_labels=['agent','customer'])\n",
        "disp.plot()\n",
        "plt.show()"
      ],
      "metadata": {
        "colab": {
          "base_uri": "https://localhost:8080/",
          "height": 472
        },
        "id": "6fuFwsX6iyDv",
        "outputId": "1ae595c7-0d4f-4129-f10a-418975452c24"
      },
      "execution_count": null,
      "outputs": [
        {
          "output_type": "stream",
          "name": "stdout",
          "text": [
            "4/4 [==============================] - 0s 36ms/step\n"
          ]
        },
        {
          "output_type": "display_data",
          "data": {
            "text/plain": [
              "<Figure size 640x480 with 2 Axes>"
            ],
            "image/png": "[encoded data removed]"
          },
          "metadata": {}
        }
      ]
    },
    {
      "cell_type": "code",
      "source": [
        "y_prediction = model.predict(X_test)\n",
        "y_prediction = np.argmax(y_prediction, axis = 1)\n",
        "y_prediction"
      ],
      "metadata": {
        "colab": {
          "base_uri": "https://localhost:8080/"
        },
        "id": "V1k6VWOc03qF",
        "outputId": "38672410-dc63-41ea-ceff-d2f3ef46c2b0"
      },
      "execution_count": null,
      "outputs": [
        {
          "output_type": "stream",
          "name": "stdout",
          "text": [
            "4/4 [==============================] - 0s 27ms/step\n"
          ]
        },
        {
          "output_type": "execute_result",
          "data": {
            "text/plain": [
              "array([1, 0, 1, 0, 0, 1, 0, 1, 1, 0, 0, 0, 1, 1, 1, 1, 1, 1, 0, 1, 1, 1,\n",
              "       0, 0, 1, 0, 0, 1, 1, 1, 1, 0, 0, 1, 0, 1, 1, 0, 0, 1, 0, 0, 1, 0,\n",
              "       1, 0, 1, 0, 1, 1, 0, 1, 0, 1, 1, 0, 0, 0, 0, 0, 0, 0, 1, 1, 1, 0,\n",
              "       1, 1, 1, 1, 1, 1, 1, 1, 1, 0, 0, 1, 0, 1, 0, 0, 1, 1, 0, 1, 1, 0,\n",
              "       0, 1, 0, 0, 1, 1, 0, 1, 0])"
            ]
          },
          "metadata": {},
          "execution_count": 17
        }
      ]
    },
    {
      "cell_type": "code",
      "source": [
        "y_test"
      ],
      "metadata": {
        "colab": {
          "base_uri": "https://localhost:8080/"
        },
        "id": "wdaF57Dy1U30",
        "outputId": "5fd279c0-c925-47ea-e3be-33c784958388"
      },
      "execution_count": null,
      "outputs": [
        {
          "output_type": "execute_result",
          "data": {
            "text/plain": [
              "array([1, 0, 1, 0, 0, 1, 0, 1, 1, 0, 0, 0, 1, 1, 1, 1, 1, 1, 0, 1, 1, 1,\n",
              "       0, 0, 1, 0, 0, 1, 1, 1, 1, 0, 0, 1, 0, 1, 1, 0, 0, 1, 0, 0, 1, 0,\n",
              "       1, 0, 1, 0, 0, 1, 0, 1, 0, 1, 1, 0, 0, 0, 0, 0, 0, 0, 1, 1, 1, 0,\n",
              "       1, 1, 1, 1, 1, 0, 1, 1, 1, 0, 0, 1, 0, 1, 0, 0, 1, 1, 0, 1, 1, 0,\n",
              "       0, 1, 0, 0, 0, 1, 0, 1, 0])"
            ]
          },
          "metadata": {},
          "execution_count": 18
        }
      ]
    }
  ],
  "metadata": {
    "accelerator": "GPU",
    "colab": {
      "provenance": []
    },
    "kernelspec": {
      "display_name": "Python 3",
      "name": "python3"
    },
    "language_info": {
      "name": "python"
    }
  },
  "nbformat": 4,
  "nbformat_minor": 0
}